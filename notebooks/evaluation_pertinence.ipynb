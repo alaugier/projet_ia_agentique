{
 "cells": [
  {
   "cell_type": "markdown",
   "id": "5e3b5b5d",
   "metadata": {},
   "source": [
    "#### Importations & chargement du référentiel"
   ]
  },
  {
   "cell_type": "code",
   "execution_count": 7,
   "id": "f7e2fb87",
   "metadata": {},
   "outputs": [],
   "source": [
    "import json\n",
    "import logging\n",
    "from pathlib import Path\n",
    "\n",
    "# Configurer logs pour le notebook lui-même (optionnel)\n",
    "logger = logging.getLogger(\"evaluator\")\n",
    "logger.setLevel(logging.DEBUG)\n",
    "fh = logging.FileHandler(\"../logs/quiz_generation.log\")\n",
    "fh.setFormatter(logging.Formatter('%(asctime)s - %(message)s'))\n",
    "logger.addHandler(fh)\n",
    "\n",
    "# Chargement du référentiel AI-900\n",
    "with open(\"../referentiel/referentiel_ai900.json\", encoding=\"utf-8\") as f:\n",
    "    referentiel = json.load(f)\n",
    "\n",
    "mots_cles = [m.lower() for m in referentiel[\"mots_cles\"]]"
   ]
  },
  {
   "cell_type": "markdown",
   "id": "12f694e5",
   "metadata": {},
   "source": [
    "#### Fonction d’évaluation"
   ]
  },
  {
   "cell_type": "code",
   "execution_count": 8,
   "id": "98bf2974",
   "metadata": {},
   "outputs": [],
   "source": [
    "def evaluer_pertinence(question: dict, logs: str) -> dict:\n",
    "    texte = question.get(\"question\", \"\").lower()\n",
    "    score = sum(1 for mot in mots_cles if mot in texte)\n",
    "    \n",
    "    pertinence = \"Oui\" if score >= 2 else \"Non\"\n",
    "    commentaire = \"Pertinent.\" if score >= 2 else \"Question probablement hors sujet AI-900.\"\n",
    "\n",
    "    if \"source semble peu fiable\" in logs.lower():\n",
    "        commentaire += \" ⚠️ Source douteuse détectée.\"\n",
    "    \n",
    "    logger.info(f\"Question ID {question.get('id')} : score={score}, pertinence={pertinence}\")\n",
    "    \n",
    "    return {\n",
    "        \"question_id\": question.get(\"id\", \"N/A\"),\n",
    "        \"pertinence\": pertinence,\n",
    "        \"note_sur_10\": min(score * 2, 10),\n",
    "        \"commentaire\": commentaire\n",
    "    }\n"
   ]
  },
  {
   "cell_type": "markdown",
   "id": "50b4792a",
   "metadata": {},
   "source": [
    "#### Chargement des questions et logs"
   ]
  },
  {
   "cell_type": "code",
   "execution_count": 10,
   "id": "4b29dbc7",
   "metadata": {},
   "outputs": [],
   "source": [
    "with open(\"../logs/quiz_generation.log\", encoding=\"utf-8\") as f:\n",
    "    logs = f.read()\n",
    "\n",
    "# Exemple de liste de questions (à remplacer par ton fichier réel)\n",
    "questions = [\n",
    "    {\n",
    "        \"id\": 1,\n",
    "        \"question\": \"Qu’est-ce que le machine learning supervisé ?\",\n",
    "        \"réponse\": \"A\",\n",
    "        \"explication\": \"...\",\n",
    "        \"source\": \"https://learn.microsoft.com/...\"\n",
    "    },\n",
    "    {\n",
    "        \"id\": 2,\n",
    "        \"question\": \"Quel est l’âge de Bill Gates ?\",\n",
    "        \"réponse\": \"C\",\n",
    "        \"explication\": \"...\",\n",
    "        \"source\": \"https://wikipedia.org/...\"\n",
    "    }\n",
    "]\n"
   ]
  },
  {
   "cell_type": "markdown",
   "id": "37b36773",
   "metadata": {},
   "source": [
    "#### Évaluation en boucle + visualisation"
   ]
  },
  {
   "cell_type": "code",
   "execution_count": 11,
   "id": "f5635402",
   "metadata": {},
   "outputs": [
    {
     "data": {
      "text/html": [
       "<div>\n",
       "<style scoped>\n",
       "    .dataframe tbody tr th:only-of-type {\n",
       "        vertical-align: middle;\n",
       "    }\n",
       "\n",
       "    .dataframe tbody tr th {\n",
       "        vertical-align: top;\n",
       "    }\n",
       "\n",
       "    .dataframe thead th {\n",
       "        text-align: right;\n",
       "    }\n",
       "</style>\n",
       "<table border=\"1\" class=\"dataframe\">\n",
       "  <thead>\n",
       "    <tr style=\"text-align: right;\">\n",
       "      <th></th>\n",
       "      <th>question_id</th>\n",
       "      <th>pertinence</th>\n",
       "      <th>note_sur_10</th>\n",
       "      <th>commentaire</th>\n",
       "    </tr>\n",
       "  </thead>\n",
       "  <tbody>\n",
       "    <tr>\n",
       "      <th>0</th>\n",
       "      <td>1</td>\n",
       "      <td>Oui</td>\n",
       "      <td>4</td>\n",
       "      <td>Pertinent.</td>\n",
       "    </tr>\n",
       "    <tr>\n",
       "      <th>1</th>\n",
       "      <td>2</td>\n",
       "      <td>Non</td>\n",
       "      <td>0</td>\n",
       "      <td>Question probablement hors sujet AI-900.</td>\n",
       "    </tr>\n",
       "  </tbody>\n",
       "</table>\n",
       "</div>"
      ],
      "text/plain": [
       "   question_id pertinence  note_sur_10  \\\n",
       "0            1        Oui            4   \n",
       "1            2        Non            0   \n",
       "\n",
       "                                commentaire  \n",
       "0                                Pertinent.  \n",
       "1  Question probablement hors sujet AI-900.  "
      ]
     },
     "execution_count": 11,
     "metadata": {},
     "output_type": "execute_result"
    }
   ],
   "source": [
    "résultats = [evaluer_pertinence(q, logs) for q in questions]\n",
    "\n",
    "import pandas as pd\n",
    "pd.DataFrame(résultats)\n"
   ]
  },
  {
   "cell_type": "code",
   "execution_count": null,
   "id": "94e7bf44",
   "metadata": {},
   "outputs": [],
   "source": []
  }
 ],
 "metadata": {
  "kernelspec": {
   "display_name": "env_hf",
   "language": "python",
   "name": "python3"
  },
  "language_info": {
   "codemirror_mode": {
    "name": "ipython",
    "version": 3
   },
   "file_extension": ".py",
   "mimetype": "text/x-python",
   "name": "python",
   "nbconvert_exporter": "python",
   "pygments_lexer": "ipython3",
   "version": "3.12.3"
  }
 },
 "nbformat": 4,
 "nbformat_minor": 5
}
